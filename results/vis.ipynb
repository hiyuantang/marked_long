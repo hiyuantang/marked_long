{
 "cells": [
  {
   "cell_type": "code",
   "execution_count": 1,
   "metadata": {},
   "outputs": [],
   "source": [
    "import numpy as np\n",
    "import matplotlib.pyplot as plt"
   ]
  },
  {
   "cell_type": "code",
   "execution_count": null,
   "outputs": [],
   "source": [
    "def get_val_results(path):\n",
    "    results = []\n",
    "    with open(path) as text:\n",
    "        for line in text:\n",
    "            if 'val_acc1' in line:\n",
    "                i = line.index(':', -25)\n",
    "                results.append(float(line[i+2:-2]))\n",
    "    return results\n",
    "\n",
    "def vis(acc_list, name_list):\n",
    "    plt.style.use('seaborn-darkgrid')\n",
    "    dpi = 96\n",
    "    plt.figure(figsize=(500/dpi, 500/dpi), dpi=dpi)\n",
    "    palette = plt.get_cmap('Set1')\n",
    "\n",
    "    for i in range(len(acc_list)):\n",
    "        plt.plot(acc_list[i], marker='', color=palette(i), linewidth=2, alpha=0.9, label=name_list[i])\n",
    "        plt.text(len(acc_list[i]), acc_list[i][-1], name_list[i], horizontalalignment='left', size='large', color=palette(i))\n",
    "\n",
    "    plt.title(\"7L_eidiv validation w/ -b256 -e90 -lradj off\", loc='left', fontsize=15, fontweight=0, color='black')\n",
    "    plt.xlabel('Epochs')\n",
    "    plt.ylabel('Validation Accuracy')\n",
    "    plt.show()\n",
    "    "
   ],
   "metadata": {
    "collapsed": false,
    "pycharm": {
     "name": "#%%\n"
    }
   }
  },
  {
   "cell_type": "code",
   "execution_count": null,
   "outputs": [],
   "source": [
    "#get validation accuracy from text\n",
    "#results from random seed 29 -b 256 --lr 0.00001 --epochs 50 datasplit 9:1\n",
    "L3eidiv_rs29 = get_val_results('./rs29/L3_eidiv_rs29.txt')\n",
    "L5eidiv_rs29 = get_val_results('./rs29/L5_eidiv_rs29.txt')\n",
    "L7eidiv_rs29 = get_val_results('./rs29/L7_eidiv_rs29.txt')\n",
    "L3_rs29 = get_val_results('./rs29/L3_rs29.txt')\n",
    "L5_rs29 = get_val_results('./rs29/L5_rs29.txt')\n",
    "L7_rs29 = get_val_results('./rs29/L7_rs29.txt')\n",
    "\n",
    "#results from random seed 53 -b 256 --lr 0.000005 --epochs 50 datasplit 8:2\n",
    "#L3eidiv_rs53 = get_val_results('./rs53/L3_eidiv_rs53.txt')\n",
    "#L5eidiv_rs53 = get_val_results('./rs53/L5_eidiv_rs53.txt')\n",
    "#L7eidiv_rs53 = get_val_results('./rs53/L7_eidiv_rs53.txt')\n",
    "#L3_rs53 = get_val_results('./rs53/L3_rs53.txt')\n",
    "#L5_rs53 = get_val_results('./rs53/L5_rs53.txt')\n",
    "#L7_rs53 = get_val_results('./rs53/L7_rs53.txt')\n",
    "\n",
    "#results from random seed 77 -b 256 --lr 0.000005 --epochs 50 datasplit 8:2\n",
    "L3eidiv_rs77 = get_val_results('./rs77/3Leidiv_rs77.txt')\n",
    "L7eidiv_rs77_1_5 = get_val_results('./rs77/7Leidiv_rs77_1_5.txt')\n",
    "L7eidiv_rs77_5_6 = get_val_results('./rs77/7Leidiv_rs77_5_6.txt')\n",
    "L7_rs77 = get_val_results('./rs77/7L_rs77.txt')\n",
    "\n",
    "#results from random seed 104 -b 256 --lr 0.000005 --epochs 50 datasplit 8:2\n",
    "\n",
    "#validation results from random seed 53 -b 256 --epochs 50 datasplit 8:2 for finding the best lr\n",
    "L7eidiv_rs53_00001 = get_val_results('./val_L7eidiv/lr0.00001.txt')\n",
    "L7eidiv_rs53_00003 = get_val_results('./val_L7eidiv/lr0.00003.txt')\n",
    "L7eidiv_rs53_00005 = get_val_results('./val_L7eidiv/lr0.00005.txt')\n",
    "L7eidiv_rs53_000001 = get_val_results('./val_L7eidiv/lr0.000001.txt')\n",
    "L7eidiv_rs53_000005 = get_val_results('./val_L7eidiv/lr0.000005.txt')\n",
    "L7eidiv_rs53_000008 = get_val_results('./val_L7eidiv/lr0.000008.txt')\n",
    "L7eidiv_rs53_000015 = get_val_results('./val_L7eidiv/lr0.000015.txt')\n",
    "\n",
    "#validation results from -b 256 --epochs 90 datasplit 8:2 for finding the best lr\n",
    "L7eidiv_rs53_001_e90 = get_val_results('./val_L7eidiv_epochs90_nolradj/lr0.001_rs53.txt')\n",
    "L7eidiv_rs53_0001_e90 = get_val_results('./val_L7eidiv_epochs90_nolradj/lr0.0001_rs53.txt')\n",
    "L7eidiv_rs53_00001_e90 = get_val_results('./val_L7eidiv_epochs90_nolradj/lr0.00001_rs53.txt')\n",
    "L7eidiv_rs77_00001_e90 = get_val_results('./val_L7eidiv_epochs90_nolradj/lr0.00001_rs77.txt')\n",
    "L7eidiv_rs53_001_e90_dropout = get_val_results('./val_L7eidiv_epochs90_nolradj/lr0.001_rs53_dropout.txt')\n",
    "L7eidiv_rs53_0001_e90_dropout = get_val_results('./val_L7eidiv_epochs90_nolradj/lr0.0001_rs53_dropout.txt')\n",
    "L7eidiv_rs53_00001_e90_dropout = get_val_results('./val_L7eidiv_epochs90_nolradj/lr0.00001_rs53_dropout.txt')\n"
   ],
   "metadata": {
    "collapsed": false,
    "pycharm": {
     "name": "#%%\n"
    }
   }
  },
  {
   "cell_type": "code",
   "execution_count": null,
   "outputs": [],
   "source": [
    "acc_list = np.array([L7eidiv_rs53_001_e90, L7eidiv_rs53_0001_e90, L7eidiv_rs53_00001_e90, L7eidiv_rs53_00001, \n",
    "                        L7eidiv_rs77_00001_e90, L7eidiv_rs53_001_e90_dropout, L7eidiv_rs53_0001_e90_dropout, \n",
    "                        L7eidiv_rs53_00001_e90_dropout], dtype=object)\n",
    "name_list = np.array(['lr.001_rs53_wd5e-4', 'lr.0001_rs53_wd5e-4', 'lr.00001_rs53_wd5e-4', 'lr.00001_rs53_wd1e-4', \n",
    "                    'lr.00001_rs77_wd5e-4', 'lr.001_rs53_wd5e-4_dropout', 'lr.0001_rs53_wd5e-4_dropout', \n",
    "                    'lr.00001_rs53_wd5e-4_dropout'])\n",
    "vis(acc_list, name_list)"
   ],
   "metadata": {
    "collapsed": false,
    "pycharm": {
     "name": "#%%\n"
    }
   }
  },
  {
   "cell_type": "code",
   "execution_count": null,
   "outputs": [],
   "source": [
    "acc_list = np.array([L7eidiv_rs53_00001, L7eidiv_rs53_00003, L7eidiv_rs53_00005, L7eidiv_rs53_000001, \n",
    "                    L7eidiv_rs53_000005, L7eidiv_rs53_000008, L7eidiv_rs53_000015,], dtype=object)\n",
    "name_list = np.array(['lr.00001', 'lr.00003', 'lr.00005', 'lr.000001', 'lr.000005', 'lr.000008', 'lr.000015'])\n",
    "\n",
    "#setup plot\n",
    "plt.style.use('seaborn-darkgrid')\n",
    "dpi = 96\n",
    "plt.figure(figsize=(500/dpi, 500/dpi), dpi=dpi)\n",
    "palette = plt.get_cmap('Set2')\n",
    "\n",
    "for i in range(len(acc_list)):\n",
    "    plt.plot(acc_list[i], marker='', color=palette(i), linewidth=2, alpha=0.9, label=name_list[i])\n",
    "    plt.text(len(acc_list[i]), acc_list[i][-1], name_list[i], horizontalalignment='left', size='large', color=palette(i))\n",
    "\n",
    "plt.title(\"7L_eidiv validation w/ -b256 -rs53 -e50 -wd 1e-4 -lradj on\", loc='left', fontsize=15, fontweight=0, color='black')\n",
    "plt.xlabel('Epochs')\n",
    "plt.ylabel('Validation Accuracy')\n",
    "plt.show()"
   ],
   "metadata": {
    "collapsed": false,
    "pycharm": {
     "name": "#%%\n"
    }
   }
  },
  {
   "cell_type": "code",
   "execution_count": null,
   "outputs": [],
   "source": [
    "name_list = np.array(['3Leidiv', '5Leidiv', '7Leidiv', '3L', '5L', '7L'])\n",
    "lines = np.array([np.asarray(L3eidiv_rs29), np.asarray(L5eidiv_rs29), np.asarray(L7eidiv_rs29), \n",
    "                np.asarray(L3_rs29), np.asarray(L5_rs29), np.asarray(L7_rs29)])\n",
    "\n",
    "#setup plot\n",
    "plt.style.use('seaborn-darkgrid')\n",
    "dpi = 96\n",
    "plt.figure(figsize=(600/dpi, 600/dpi), dpi=dpi)\n",
    "palette = plt.get_cmap('Set1')\n",
    "#draw lines\n",
    "for i in range(lines.shape[0]):\n",
    "    plt.plot(lines[i], marker='', color=palette(i), linewidth=2, alpha=0.9, label=name_list[i])\n",
    "#mark lines\n",
    "for i in range(lines.shape[0]):\n",
    "    plt.text(50, lines[i,-1], name_list[i], horizontalalignment='left', size='large', color=palette(i))\n",
    "\n",
    "#plt.legend(loc=2, ncol=2)\n",
    "plt.title('Performance Comparison rs29', loc='left', fontsize=15, fontweight=0, color='black')\n",
    "plt.xlabel('Epochs')\n",
    "plt.ylabel('Validation Accuracy')\n",
    "plt.show()"
   ],
   "metadata": {
    "collapsed": false,
    "pycharm": {
     "name": "#%%\n"
    }
   }
  },
  {
   "cell_type": "code",
   "execution_count": null,
   "outputs": [],
   "source": [
    "name_list = np.array(['7Leidiv_rs77'])\n",
    "lines = np.array([np.asarray(L7eidiv_rs77_1_5)])\n",
    "\n",
    "#setup plot\n",
    "plt.style.use('seaborn-darkgrid')\n",
    "dpi = 96\n",
    "plt.figure(figsize=(300/dpi, 300/dpi), dpi=dpi)\n",
    "palette = plt.get_cmap('Set1')\n",
    "#draw lines\n",
    "for i in range(lines.shape[0]):\n",
    "    plt.plot(lines[i], marker='', color=palette(i), linewidth=2, alpha=0.9, label=name_list[i])\n",
    "#mark lines\n",
    "for i in range(lines.shape[0]):\n",
    "    plt.text(27, lines[i,-1], name_list[i], horizontalalignment='left', size='large', color=palette(i))\n",
    "\n",
    "#plt.legend(loc=2, ncol=2)\n",
    "plt.title(\"7L EIDivnorm w/ lr 0.00001\", loc='left', fontsize=15, fontweight=0, color='black')\n",
    "plt.xlabel('Epochs')\n",
    "plt.ylabel('Validation Accuracy')\n",
    "plt.show()"
   ],
   "metadata": {
    "collapsed": false,
    "pycharm": {
     "name": "#%%\n"
    }
   }
  },
  {
   "cell_type": "code",
   "execution_count": null,
   "outputs": [],
   "source": [
    "L7eidiv_rs77 = get_val_results('./rs77/7Leidiv_rs77_5_6.txt')\n",
    "\n",
    "name_list = np.array(['7Leidiv_rs77'])\n",
    "lines = np.array([np.asarray(L7eidiv_rs77)])\n",
    "\n",
    "#setup plot\n",
    "plt.style.use('seaborn-darkgrid')\n",
    "dpi = 96\n",
    "plt.figure(figsize=(300/dpi, 300/dpi), dpi=dpi)\n",
    "palette = plt.get_cmap('Set1')\n",
    "#draw lines\n",
    "for i in range(lines.shape[0]):\n",
    "    plt.plot(lines[i], marker='', color=palette(i), linewidth=2, alpha=0.9, label=name_list[i])\n",
    "#mark lines\n",
    "for i in range(lines.shape[0]):\n",
    "    plt.text(12, lines[i,-1], name_list[i], horizontalalignment='left', size='large', color=palette(i))\n",
    "\n",
    "#plt.legend(loc=2, ncol=2)\n",
    "plt.title(\"7L EIDivnorm w/ lr 0.000005\", loc='left', fontsize=15, fontweight=0, color='black')\n",
    "plt.xlabel('Epochs')\n",
    "plt.ylabel('Validation Accuracy')\n",
    "plt.show()"
   ],
   "metadata": {
    "collapsed": false,
    "pycharm": {
     "name": "#%%\n"
    }
   }
  },
  {
   "cell_type": "code",
   "execution_count": null,
   "outputs": [],
   "source": [
    "L7eidiv_rs77 = get_val_results('./rs77/7Leidiv_rs77_7_6.txt')\n",
    "\n",
    "name_list = np.array(['7Leidiv_rs77'])\n",
    "lines = np.array([np.asarray(L7eidiv_rs77)])\n",
    "\n",
    "#setup plot\n",
    "plt.style.use('seaborn-darkgrid')\n",
    "dpi = 96\n",
    "plt.figure(figsize=(300/dpi, 300/dpi), dpi=dpi)\n",
    "palette = plt.get_cmap('Set1')\n",
    "#draw lines\n",
    "for i in range(lines.shape[0]):\n",
    "    plt.plot(lines[i], marker='', color=palette(i), linewidth=2, alpha=0.9, label=name_list[i])\n",
    "#mark lines\n",
    "for i in range(lines.shape[0]):\n",
    "    plt.text(12, lines[i,-1], name_list[i], horizontalalignment='left', size='large', color=palette(i))\n",
    "\n",
    "#plt.legend(loc=2, ncol=2)\n",
    "plt.title(\"7L EIDivnorm w/ lr 0.000007\", loc='left', fontsize=15, fontweight=0, color='black')\n",
    "plt.xlabel('Epochs')\n",
    "plt.ylabel('Validation Accuracy')\n",
    "plt.show()"
   ],
   "metadata": {
    "collapsed": false,
    "pycharm": {
     "name": "#%%\n"
    }
   }
  },
  {
   "cell_type": "code",
   "execution_count": null,
   "outputs": [],
   "source": [
    "name_list = np.array(['3Leidiv_29', '3Leidiv_77'])\n",
    "lines = np.array([np.asarray(L3eidiv_rs29), np.asarray(L3eidiv_rs77)])\n",
    "\n",
    "#setup plot\n",
    "plt.style.use('seaborn-darkgrid')\n",
    "dpi = 96\n",
    "plt.figure(figsize=(300/dpi, 300/dpi), dpi=dpi)\n",
    "palette = plt.get_cmap('Set1')\n",
    "#draw lines\n",
    "for i in range(lines.shape[0]):\n",
    "    plt.plot(lines[i], marker='', color=palette(i), linewidth=2, alpha=0.9, label=name_list[i])\n",
    "#mark lines\n",
    "for i in range(lines.shape[0]):\n",
    "    plt.text(50, lines[i,-1], name_list[i], horizontalalignment='left', size='large', color=palette(i))\n",
    "\n",
    "#plt.legend(loc=2, ncol=2)\n",
    "plt.title(\"3L w/ eidiv lr 0.00001\", loc='left', fontsize=15, fontweight=0, color='black')\n",
    "plt.xlabel('Epochs')\n",
    "plt.ylabel('Validation Accuracy')\n",
    "plt.show()"
   ],
   "metadata": {
    "collapsed": false,
    "pycharm": {
     "name": "#%%\n"
    }
   }
  },
  {
   "cell_type": "code",
   "execution_count": null,
   "outputs": [],
   "source": [
    "name_list = np.array(['7L_rs29', '7L_rs77', '3L_rs29', '5L_rs29', '7L_rs29'])\n",
    "lines = np.array([np.asarray(L7_rs29), np.asarray(L7_rs77), np.asarray(L3_rs29), np.asarray(L5_rs29), np.asarray(L7_rs29)])\n",
    "\n",
    "#setup plot\n",
    "plt.style.use('seaborn-darkgrid')\n",
    "dpi = 96\n",
    "plt.figure(figsize=(400/dpi, 400/dpi), dpi=dpi)\n",
    "palette = plt.get_cmap('Set1')\n",
    "#draw lines\n",
    "for i in range(lines.shape[0]):\n",
    "    plt.plot(lines[i], marker='', color=palette(i), linewidth=2, alpha=0.9, label=name_list[i])\n",
    "#mark lines\n",
    "for i in range(lines.shape[0]):\n",
    "    plt.text(50, lines[i,-1], name_list[i], horizontalalignment='left', size='large', color=palette(i))\n",
    "\n",
    "#plt.legend(loc=2, ncol=2)\n",
    "plt.title(\"w/o eidiv lr 0.00001\", loc='left', fontsize=15, fontweight=0, color='black')\n",
    "plt.xlabel('Epochs')\n",
    "plt.ylabel('Validation Accuracy')\n",
    "plt.show()"
   ],
   "metadata": {
    "collapsed": false,
    "pycharm": {
     "name": "#%%\n"
    }
   }
  },
  {
   "cell_type": "code",
   "execution_count": null,
   "metadata": {},
   "outputs": [],
   "source": [
    "name_list = np.array(['3Leidiv', '5Leidiv', '7Leidiv', '3L', '5L', '7L'])\n",
    "lines = np.array([np.asarray(L3eidiv_rs29), np.asarray(L5eidiv_rs29), np.asarray(L7eidiv_rs29), \n",
    "                np.asarray(L3_rs29), np.asarray(L5_rs29), np.asarray(L7_rs29)])\n",
    "\n",
    "#setup plot\n",
    "plt.style.use('seaborn-darkgrid')\n",
    "dpi = 96\n",
    "plt.figure(figsize=(600/dpi, 600/dpi), dpi=dpi)\n",
    "palette = plt.get_cmap('Set1')\n",
    "#draw lines\n",
    "for i in range(lines.shape[0]):\n",
    "    plt.plot(lines[i], marker='', color=palette(i), linewidth=2, alpha=0.9, label=name_list[i])\n",
    "#mark lines\n",
    "for i in range(lines.shape[0]):\n",
    "    plt.text(50, lines[i,-1], name_list[i], horizontalalignment='left', size='large', color=palette(i))\n",
    "\n",
    "#plt.legend(loc=2, ncol=2)\n",
    "plt.title('Performance Comparison rs29', loc='left', fontsize=15, fontweight=0, color='black')\n",
    "plt.xlabel('Epochs')\n",
    "plt.ylabel('Validation Accuracy')\n",
    "plt.show()"
   ]
  },
  {
   "cell_type": "code",
   "execution_count": null,
   "metadata": {},
   "outputs": [],
   "source": [
    "name_list = np.array(['7Leidiv_rs77'])\n",
    "lines = np.array([np.asarray(L7eidiv_rs77_1_5)])\n",
    "\n",
    "#setup plot\n",
    "plt.style.use('seaborn-darkgrid')\n",
    "dpi = 96\n",
    "plt.figure(figsize=(300/dpi, 300/dpi), dpi=dpi)\n",
    "palette = plt.get_cmap('Set1')\n",
    "#draw lines\n",
    "for i in range(lines.shape[0]):\n",
    "    plt.plot(lines[i], marker='', color=palette(i), linewidth=2, alpha=0.9, label=name_list[i])\n",
    "#mark lines\n",
    "for i in range(lines.shape[0]):\n",
    "    plt.text(27, lines[i,-1], name_list[i], horizontalalignment='left', size='large', color=palette(i))\n",
    "\n",
    "#plt.legend(loc=2, ncol=2)\n",
    "plt.title(\"7L EIDivnorm w/ lr 0.00001\", loc='left', fontsize=15, fontweight=0, color='black')\n",
    "plt.xlabel('Epochs')\n",
    "plt.ylabel('Validation Accuracy')\n",
    "plt.show()"
   ]
  },
  {
   "cell_type": "code",
   "execution_count": null,
   "metadata": {},
   "outputs": [],
   "source": [
    "L7eidiv_rs77 = get_val_results('./rs77/7Leidiv_rs77_5_6.txt')\n",
    "\n",
    "name_list = np.array(['7Leidiv_rs77'])\n",
    "lines = np.array([np.asarray(L7eidiv_rs77)])\n",
    "\n",
    "#setup plot\n",
    "plt.style.use('seaborn-darkgrid')\n",
    "dpi = 96\n",
    "plt.figure(figsize=(300/dpi, 300/dpi), dpi=dpi)\n",
    "palette = plt.get_cmap('Set1')\n",
    "#draw lines\n",
    "for i in range(lines.shape[0]):\n",
    "    plt.plot(lines[i], marker='', color=palette(i), linewidth=2, alpha=0.9, label=name_list[i])\n",
    "#mark lines\n",
    "for i in range(lines.shape[0]):\n",
    "    plt.text(12, lines[i,-1], name_list[i], horizontalalignment='left', size='large', color=palette(i))\n",
    "\n",
    "#plt.legend(loc=2, ncol=2)\n",
    "plt.title(\"7L EIDivnorm w/ lr 0.000005\", loc='left', fontsize=15, fontweight=0, color='black')\n",
    "plt.xlabel('Epochs')\n",
    "plt.ylabel('Validation Accuracy')\n",
    "plt.show()"
   ]
  },
  {
   "cell_type": "code",
   "execution_count": null,
   "metadata": {},
   "outputs": [],
   "source": [
    "L7eidiv_rs77 = get_val_results('./rs77/7Leidiv_rs77_7_6.txt')\n",
    "\n",
    "name_list = np.array(['7Leidiv_rs77'])\n",
    "lines = np.array([np.asarray(L7eidiv_rs77)])\n",
    "\n",
    "#setup plot\n",
    "plt.style.use('seaborn-darkgrid')\n",
    "dpi = 96\n",
    "plt.figure(figsize=(300/dpi, 300/dpi), dpi=dpi)\n",
    "palette = plt.get_cmap('Set1')\n",
    "#draw lines\n",
    "for i in range(lines.shape[0]):\n",
    "    plt.plot(lines[i], marker='', color=palette(i), linewidth=2, alpha=0.9, label=name_list[i])\n",
    "#mark lines\n",
    "for i in range(lines.shape[0]):\n",
    "    plt.text(12, lines[i,-1], name_list[i], horizontalalignment='left', size='large', color=palette(i))\n",
    "\n",
    "#plt.legend(loc=2, ncol=2)\n",
    "plt.title(\"7L EIDivnorm w/ lr 0.000007\", loc='left', fontsize=15, fontweight=0, color='black')\n",
    "plt.xlabel('Epochs')\n",
    "plt.ylabel('Validation Accuracy')\n",
    "plt.show()"
   ]
  },
  {
   "cell_type": "code",
   "execution_count": null,
   "metadata": {},
   "outputs": [],
   "source": [
    "name_list = np.array(['3Leidiv_29', '3Leidiv_77'])\n",
    "lines = np.array([np.asarray(L3eidiv_rs29), np.asarray(L3eidiv_rs77)])\n",
    "\n",
    "#setup plot\n",
    "plt.style.use('seaborn-darkgrid')\n",
    "dpi = 96\n",
    "plt.figure(figsize=(300/dpi, 300/dpi), dpi=dpi)\n",
    "palette = plt.get_cmap('Set1')\n",
    "#draw lines\n",
    "for i in range(lines.shape[0]):\n",
    "    plt.plot(lines[i], marker='', color=palette(i), linewidth=2, alpha=0.9, label=name_list[i])\n",
    "#mark lines\n",
    "for i in range(lines.shape[0]):\n",
    "    plt.text(50, lines[i,-1], name_list[i], horizontalalignment='left', size='large', color=palette(i))\n",
    "\n",
    "#plt.legend(loc=2, ncol=2)\n",
    "plt.title(\"3L w/ eidiv lr 0.00001\", loc='left', fontsize=15, fontweight=0, color='black')\n",
    "plt.xlabel('Epochs')\n",
    "plt.ylabel('Validation Accuracy')\n",
    "plt.show()"
   ]
  },
  {
   "cell_type": "code",
   "execution_count": null,
   "metadata": {},
   "outputs": [],
   "source": [
    "name_list = np.array(['7L_rs29', '7L_rs77', '3L_rs29', '5L_rs29', '7L_rs29'])\n",
    "lines = np.array([np.asarray(L7_rs29), np.asarray(L7_rs77), np.asarray(L3_rs29), np.asarray(L5_rs29), np.asarray(L7_rs29)])\n",
    "\n",
    "#setup plot\n",
    "plt.style.use('seaborn-darkgrid')\n",
    "dpi = 96\n",
    "plt.figure(figsize=(400/dpi, 400/dpi), dpi=dpi)\n",
    "palette = plt.get_cmap('Set1')\n",
    "#draw lines\n",
    "for i in range(lines.shape[0]):\n",
    "    plt.plot(lines[i], marker='', color=palette(i), linewidth=2, alpha=0.9, label=name_list[i])\n",
    "#mark lines\n",
    "for i in range(lines.shape[0]):\n",
    "    plt.text(50, lines[i,-1], name_list[i], horizontalalignment='left', size='large', color=palette(i))\n",
    "\n",
    "#plt.legend(loc=2, ncol=2)\n",
    "plt.title(\"w/o eidiv lr 0.00001\", loc='left', fontsize=15, fontweight=0, color='black')\n",
    "plt.xlabel('Epochs')\n",
    "plt.ylabel('Validation Accuracy')\n",
    "plt.show()"
   ]
  }
 ],
 "metadata": {
  "kernelspec": {
   "display_name": "Python 3.9.12 ('base')",
   "language": "python",
   "name": "python3"
  },
  "language_info": {
   "codemirror_mode": {
    "name": "ipython",
    "version": 3
   },
   "file_extension": ".py",
   "mimetype": "text/x-python",
   "name": "python",
   "nbconvert_exporter": "python",
   "pygments_lexer": "ipython3",
   "version": "3.9.12"
  },
  "orig_nbformat": 4,
  "vscode": {
   "interpreter": {
    "hash": "10d54cbdc45462bc50a476a2696f3bd7d0b7110c715b6645047aea80c06b7a3a"
   }
  }
 },
 "nbformat": 4,
 "nbformat_minor": 2
}